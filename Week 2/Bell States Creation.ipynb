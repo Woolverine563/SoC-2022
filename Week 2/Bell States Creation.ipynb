from qiskit import QuantumCircuit, assemble, Aer
import numpy as np
from qiskit.visualization import plot_histogram, plot_bloch_vector, array_to_latex, plot_bloch_multivector
from math import sqrt, pi
from IPython.display import display, Math

svsim = Aer.get_backend('aer_simulator') 

#for Bell state 1
qc = QuantumCircuit(2)
qc.h(0)
qc.cx(0, 1)
print(qc.draw(initial_state=True))
qc.save_statevector()
sv = svsim.run(assemble(qc)).result().get_statevector()
array_to_latex(sv)

#for Bell state 2
qc = QuantumCircuit(2)
qc.x(0)
qc.h(0)
qc.cx(0, 1)
print(qc.draw(initial_state=True))
qc.save_statevector()
sv = svsim.run(assemble(qc)).result().get_statevector()
array_to_latex(sv)

#for Bell state 3
qc = QuantumCircuit(2)
qc.h(0)
qc.cx(0, 1)
qc.x(0)
print(qc.draw(initial_state=True))
qc.save_statevector()
sv = svsim.run(assemble(qc)).result().get_statevector()
array_to_latex(sv)

#for Bell state 4
qc = QuantumCircuit(2)
qc.x(0)
qc.h(0)
qc.cx(0, 1)
qc.x(0)
print(qc.draw(initial_state=True))
qc.save_statevector()
sv = svsim.run(assemble(qc)).result().get_statevector()
array_to_latex(sv)
