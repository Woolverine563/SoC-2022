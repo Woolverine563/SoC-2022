{
 "cells": [
  {
   "cell_type": "code",
   "execution_count": 17,
   "id": "a05c4781-1c23-4868-a5dd-c09de247c25c",
   "metadata": {},
   "outputs": [],
   "source": [
    "from qiskit import QuantumCircuit, assemble, Aer\n",
    "import numpy as np\n",
    "from qiskit.visualization import plot_histogram, plot_bloch_vector, array_to_latex, plot_bloch_multivector\n",
    "from math import sqrt, pi\n",
    "from IPython.display import display, Math\n",
    "from qiskit.quantum_info import random_statevector\n",
    "svsim = Aer.get_backend('aer_simulator') "
   ]
  },
  {
   "cell_type": "markdown",
   "id": "825b0fd7-c1f6-438a-93d8-4dcf0d9a705b",
   "metadata": {
    "tags": []
   },
   "source": [
    "# Q1\n",
    "We need to implement the CSWAP gate. <br>\n",
    "To do this we can use the 3-CX gate implementation of the SWAP gate, and add a control qubit.<br>\n",
    "Thus, we end up using 3 Toffoli gates."
   ]
  },
  {
   "cell_type": "markdown",
   "id": "7faf79dc-9eac-4304-81e9-60b1a5bef883",
   "metadata": {
    "tags": []
   },
   "source": [
    "# Q2\n",
    "Initial states of the system is : $|0\\psi\\phi\\rangle$, then it becomes $|+\\psi\\phi\\rangle$<br>\n",
    "After the CSWAP operation, the state of the 3-qubit system is: $\\frac{|0\\psi\\phi\\rangle + |1\\phi\\psi\\rangle }{\\sqrt 2}$<br>\n",
    "and after the final Hadamard gate it is: $\\Phi = \\frac{|0\\psi\\phi\\rangle + |0\\phi\\psi\\rangle }{2} + \\frac{|1\\psi\\phi\\rangle - |1\\phi\\psi\\rangle }{2}$, $\\rho = |\\Phi\\rangle\\langle\\Phi|$<br>\n",
    "$\\rho = \\frac{|0\\rangle\\langle 0|}{4}\\otimes(|\\psi\\phi\\rangle+|\\phi\\psi\\rangle)(\\langle \\psi\\phi| + \\langle \\phi\\psi|) + \\frac{|1\\rangle\\langle 1|}{4}\\otimes(|\\psi\\phi\\rangle-|\\phi\\psi\\rangle)(\\langle \\psi\\phi|- \\langle \\phi\\psi|)$<br>\n",
    "If we consider the sub-system of only the first qubit by tracing out the other 2 qubits' state:<br>\n",
    "Using, $\\langle\\psi\\phi|\\psi\\phi\\rangle = 1, \\langle\\psi\\phi|\\phi\\psi\\rangle = \\langle\\psi|\\phi\\rangle\\cdot\\langle\\phi|\\psi\\rangle = |\\langle\\psi|\\phi\\rangle|^2$<br>\n",
    "$\\rho^{q_1} = |0\\rangle\\langle 0|\\cdot\\frac{1 + |\\langle\\psi|\\phi\\rangle|^2}{2} + |1\\rangle\\langle 1|\\cdot\\frac{1 - |\\langle\\psi|\\phi\\rangle|^2}{2} $<br>\n",
    "\n",
    "Thus, measuring the first qubit in the standard basis will return 0 with $P(0) = \\frac{1 + |\\langle\\psi|\\phi\\rangle|^2}{2}\\implies\n",
    "|\\langle\\psi|\\phi\\rangle| = \\sqrt{2P(0)-1}$\n"
   ]
  },
  {
   "cell_type": "code",
   "execution_count": 14,
   "id": "b98af15c-9f09-403b-8d9f-314886268593",
   "metadata": {},
   "outputs": [
    {
     "name": "stdout",
     "output_type": "stream",
     "text": [
      "Magnitude of the inner product of the 2 states =  0.7338322530324048\n"
     ]
    }
   ],
   "source": [
    "a = (1+0.5j)/(2*sqrt(2))\n",
    "b = sqrt(6.75)/(2*sqrt(2))\n",
    "c = 1.j*sqrt(2)/np.sqrt(3)\n",
    "d = 1/np.sqrt(3)\n",
    "state_1 = [a, b]\n",
    "state_2 = [c, d]\n",
    "inner_prod = np.absolute(np.conjugate(a) * c + np.conjugate(b) * d)\n",
    "print(\"Magnitude of the inner product of the 2 states = \", inner_prod)"
   ]
  },
  {
   "cell_type": "markdown",
   "id": "9b15b758-d11a-4891-8201-bdf823b57cc6",
   "metadata": {},
   "source": [
    "# Q3"
   ]
  },
  {
   "cell_type": "code",
   "execution_count": 15,
   "id": "41e0dd0d-f398-40e2-95c2-896b60688f80",
   "metadata": {},
   "outputs": [
    {
     "data": {
      "image/png": "[encoded data removed]",
      "text/plain": [
       "<Figure size 748.797x264.88 with 1 Axes>"
      ]
     },
     "execution_count": 15,
     "metadata": {},
     "output_type": "execute_result"
    }
   ],
   "source": [
    "qc = QuantumCircuit(3, 1)\n",
    "qc.initialize([1, 0], 0)\n",
    "qc.initialize(state_1, 1)\n",
    "qc.initialize(state_2, 2)\n",
    "qc.h(0)\n",
    "qc.barrier()\n",
    "qc.ccx(0, 1, 2)\n",
    "qc.ccx(0, 2, 1)\n",
    "qc.ccx(0, 1, 2)\n",
    "qc.barrier()\n",
    "qc.h(0)\n",
    "qc.measure(0, 0)\n",
    "qc.draw('mpl')"
   ]
  },
  {
   "cell_type": "code",
   "execution_count": 16,
   "id": "19d6d54f-4d5a-4d4e-b90e-b6f5a88b2513",
   "metadata": {},
   "outputs": [
    {
     "name": "stdout",
     "output_type": "stream",
     "text": [
      "Calculated inner product =  0.7771743691090179\n"
     ]
    },
    {
     "data": {
      "image/png": "[encoded data removed]",
      "text/plain": [
       "<Figure size 504x360 with 1 Axes>"
      ]
     },
     "execution_count": 16,
     "metadata": {},
     "output_type": "execute_result"
    }
   ],
   "source": [
    "counts = svsim.run(assemble(qc)).result().get_counts()\n",
    "x = counts['0']/1000\n",
    "print(\"Calculated inner product = \", np.sqrt(2*x - 1))\n",
    "plot_histogram(counts)"
   ]
  },
  {
   "cell_type": "code",
   "execution_count": null,
   "id": "6afb285e-3a5c-4a15-8d9b-6b357497ff91",
   "metadata": {},
   "outputs": [],
   "source": []
  }
 ],
 "metadata": {
  "kernelspec": {
   "display_name": "Python (Qiskit)",
   "language": "python",
   "name": "qiskit"
  },
  "language_info": {
   "codemirror_mode": {
    "name": "ipython",
    "version": 3
   },
   "file_extension": ".py",
   "mimetype": "text/x-python",
   "name": "python",
   "nbconvert_exporter": "python",
   "pygments_lexer": "ipython3",
   "version": "3.10.4"
  }
 },
 "nbformat": 4,
 "nbformat_minor": 5
}
