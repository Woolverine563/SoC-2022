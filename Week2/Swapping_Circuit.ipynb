{
 "cells": [
  {
   "cell_type": "code",
   "execution_count": 8,
   "id": "4c1aa219-b97a-457e-a1fc-4c800e0d3ed2",
   "metadata": {},
   "outputs": [],
   "source": [
    "from qiskit import QuantumCircuit, assemble, Aer\n",
    "import numpy as np\n",
    "from qiskit.visualization import plot_histogram, plot_bloch_vector, array_to_latex, plot_bloch_multivector\n",
    "from math import sqrt, pi"
   ]
  },
  {
   "cell_type": "code",
   "execution_count": 9,
   "id": "a6bd11b6-e35a-4961-8868-b4ec2c3b334b",
   "metadata": {},
   "outputs": [],
   "source": [
    "svsim = Aer.get_backend('aer_simulator') "
   ]
  },
  {
   "cell_type": "code",
   "execution_count": 12,
   "id": "6c933698-8270-4210-891b-ce24f54a7708",
   "metadata": {},
   "outputs": [
    {
     "name": "stdout",
     "output_type": "stream",
     "text": [
      "        ┌───────────────────────────────┐     ┌───┐     \n",
      "q_0: |0>┤ Initialize(0.70711j,0.70711j) ├──■──┤ X ├──■──\n",
      "        └──────┬─────────────────┬──────┘┌─┴─┐└─┬─┘┌─┴─┐\n",
      "q_1: |0>───────┤ Initialize(1,0) ├───────┤ X ├──■──┤ X ├\n",
      "               └─────────────────┘       └───┘     └───┘\n"
     ]
    },
    {
     "data": {
      "text/latex": [
       "$$\n",
       "\n",
       "\\begin{bmatrix}\n",
       "\\tfrac{1}{\\sqrt{2}}i & 0 & \\tfrac{1}{\\sqrt{2}}i & 0  \\\\\n",
       " \\end{bmatrix}\n",
       "$$"
      ],
      "text/plain": [
       "<IPython.core.display.Latex object>"
      ]
     },
     "execution_count": 12,
     "metadata": {},
     "output_type": "execute_result"
    }
   ],
   "source": [
    "qc = QuantumCircuit(2)\n",
    "initial_state_0 = [1j/sqrt(2), 1j/sqrt(2)]\n",
    "initial_state_1 = [1, 0]\n",
    "qc.initialize(initial_state_0, 0)\n",
    "qc.initialize(initial_state_1, 1)\n",
    "qc.cx(0, 1)\n",
    "qc.cx(1, 0)\n",
    "qc.cx(0, 1)\n",
    "print(qc.draw(initial_state=True))\n",
    "qc.save_statevector()\n",
    "sv = svsim.run(assemble(qc)).result().get_statevector()\n",
    "array_to_latex(sv)"
   ]
  },
  {
   "cell_type": "code",
   "execution_count": null,
   "id": "a32dedd5-d725-4bb9-b348-c4920a88c796",
   "metadata": {},
   "outputs": [],
   "source": []
  }
 ],
 "metadata": {
  "kernelspec": {
   "display_name": "Python (Qiskit)",
   "language": "python",
   "name": "qiskit"
  },
  "language_info": {
   "codemirror_mode": {
    "name": "ipython",
    "version": 3
   },
   "file_extension": ".py",
   "mimetype": "text/x-python",
   "name": "python",
   "nbconvert_exporter": "python",
   "pygments_lexer": "ipython3",
   "version": "3.10.4"
  }
 },
 "nbformat": 4,
 "nbformat_minor": 5
}
