{
 "cells": [
  {
   "cell_type": "code",
   "execution_count": 7,
   "id": "5985d1d7-0208-4d6c-9a72-a7b237a52af1",
   "metadata": {},
   "outputs": [],
   "source": [
    "from qiskit import QuantumCircuit, assemble, Aer\n",
    "import numpy as np\n",
    "from qiskit.visualization import plot_histogram, plot_bloch_vector, array_to_latex, plot_bloch_multivector\n",
    "from math import sqrt, pi"
   ]
  },
  {
   "cell_type": "code",
   "execution_count": 8,
   "id": "0ff44658-b98c-4515-b491-060977873820",
   "metadata": {},
   "outputs": [],
   "source": [
    "svsim = Aer.get_backend('aer_simulator') "
   ]
  },
  {
   "cell_type": "code",
   "execution_count": 22,
   "id": "ccf1a63f-14d7-47d1-a2e2-cd573023d638",
   "metadata": {},
   "outputs": [
    {
     "name": "stdout",
     "output_type": "stream",
     "text": [
      "        ┌─────────────────┐          ┌───┐\n",
      "q_0: |0>┤ Initialize(0,1) ├──■────■──┤ X ├\n",
      "        ├─────────────────┤  │  ┌─┴─┐└───┘\n",
      "q_1: |0>┤ Initialize(1,0) ├──■──┤ X ├─────\n",
      "        ├─────────────────┤┌─┴─┐└───┘     \n",
      "q_2: |0>┤ Initialize(0,1) ├┤ X ├──────────\n",
      "        └─────────────────┘└───┘          \n"
     ]
    },
    {
     "data": {
      "image/png": "[encoded data removed]",
      "text/plain": [
       "<Figure size 504x360 with 1 Axes>"
      ]
     },
     "execution_count": 22,
     "metadata": {},
     "output_type": "execute_result"
    }
   ],
   "source": [
    "qc = QuantumCircuit(3)\n",
    "initial_state_0 = [0, 1]\n",
    "initial_state_1 = [1, 0]\n",
    "initial_state_2 = [0, 1]\n",
    "qc.initialize(initial_state_0, 0)\n",
    "qc.initialize(initial_state_1, 1)\n",
    "qc.initialize(initial_state_2, 2)\n",
    "qc.ccx(0, 1, 2)\n",
    "qc.cx(0, 1)\n",
    "qc.x(0)\n",
    "print(qc.draw(initial_state=True))\n",
    "qc.measure_all()\n",
    "counts = svsim.run(assemble(qc)).result().get_counts()\n",
    "plot_histogram(counts)"
   ]
  }
 ],
 "metadata": {
  "kernelspec": {
   "display_name": "Python (Qiskit)",
   "language": "python",
   "name": "qiskit"
  },
  "language_info": {
   "codemirror_mode": {
    "name": "ipython",
    "version": 3
   },
   "file_extension": ".py",
   "mimetype": "text/x-python",
   "name": "python",
   "nbconvert_exporter": "python",
   "pygments_lexer": "ipython3",
   "version": "3.10.4"
  }
 },
 "nbformat": 4,
 "nbformat_minor": 5
}
