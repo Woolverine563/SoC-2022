{
 "cells": [
  {
   "cell_type": "code",
   "execution_count": 45,
   "id": "e7c5deeb-2579-40b6-a1fa-fb86e782551e",
   "metadata": {
    "tags": []
   },
   "outputs": [],
   "source": [
    "from qiskit import QuantumCircuit, assemble, Aer\n",
    "import numpy as np\n",
    "from qiskit.visualization import plot_histogram, plot_bloch_vector, array_to_latex, plot_bloch_multivector\n",
    "from math import sqrt, pi\n",
    "from IPython.display import display, Math"
   ]
  },
  {
   "cell_type": "code",
   "execution_count": 46,
   "id": "c26a379e-71f6-4cb5-a00b-49e226d338fd",
   "metadata": {},
   "outputs": [],
   "source": [
    "svsim = Aer.get_backend('aer_simulator') "
   ]
  },
  {
   "cell_type": "code",
   "execution_count": 47,
   "id": "789c191c-a007-4c0e-82a6-712db8f2e9b5",
   "metadata": {},
   "outputs": [
    {
     "name": "stdout",
     "output_type": "stream",
     "text": [
      "        ┌───┐     \n",
      "q_0: |0>┤ H ├──■──\n",
      "        └───┘┌─┴─┐\n",
      "q_1: |0>─────┤ X ├\n",
      "             └───┘\n"
     ]
    },
    {
     "data": {
      "text/latex": [
       "$$\n",
       "\n",
       "\\begin{bmatrix}\n",
       "\\tfrac{1}{\\sqrt{2}} & 0 & 0 & \\tfrac{1}{\\sqrt{2}}  \\\\\n",
       " \\end{bmatrix}\n",
       "$$"
      ],
      "text/plain": [
       "<IPython.core.display.Latex object>"
      ]
     },
     "execution_count": 47,
     "metadata": {},
     "output_type": "execute_result"
    }
   ],
   "source": [
    "#for Bell state 1\n",
    "qc = QuantumCircuit(2)\n",
    "qc.h(0)\n",
    "qc.cx(0, 1)\n",
    "print(qc.draw(initial_state=True))\n",
    "qc.save_statevector()\n",
    "sv = svsim.run(assemble(qc)).result().get_statevector()\n",
    "array_to_latex(sv)"
   ]
  },
  {
   "cell_type": "code",
   "execution_count": 48,
   "id": "05cf1729-4c5d-4e75-aa7b-fd72edd32aaf",
   "metadata": {},
   "outputs": [
    {
     "name": "stdout",
     "output_type": "stream",
     "text": [
      "        ┌───┐┌───┐     \n",
      "q_0: |0>┤ X ├┤ H ├──■──\n",
      "        └───┘└───┘┌─┴─┐\n",
      "q_1: |0>──────────┤ X ├\n",
      "                  └───┘\n"
     ]
    },
    {
     "data": {
      "text/latex": [
       "$$\n",
       "\n",
       "\\begin{bmatrix}\n",
       "\\tfrac{1}{\\sqrt{2}} & 0 & 0 & -\\tfrac{1}{\\sqrt{2}}  \\\\\n",
       " \\end{bmatrix}\n",
       "$$"
      ],
      "text/plain": [
       "<IPython.core.display.Latex object>"
      ]
     },
     "execution_count": 48,
     "metadata": {},
     "output_type": "execute_result"
    }
   ],
   "source": [
    "#for Bell state 2\n",
    "qc = QuantumCircuit(2)\n",
    "qc.x(0)\n",
    "qc.h(0)\n",
    "qc.cx(0, 1)\n",
    "print(qc.draw(initial_state=True))\n",
    "qc.save_statevector()\n",
    "sv = svsim.run(assemble(qc)).result().get_statevector()\n",
    "array_to_latex(sv)"
   ]
  },
  {
   "cell_type": "code",
   "execution_count": 49,
   "id": "0e165ea2-bacc-4f27-a442-de3e614bc360",
   "metadata": {},
   "outputs": [
    {
     "name": "stdout",
     "output_type": "stream",
     "text": [
      "        ┌───┐     ┌───┐\n",
      "q_0: |0>┤ H ├──■──┤ X ├\n",
      "        └───┘┌─┴─┐└───┘\n",
      "q_1: |0>─────┤ X ├─────\n",
      "             └───┘     \n"
     ]
    },
    {
     "data": {
      "text/latex": [
       "$$\n",
       "\n",
       "\\begin{bmatrix}\n",
       "0 & \\tfrac{1}{\\sqrt{2}} & \\tfrac{1}{\\sqrt{2}} & 0  \\\\\n",
       " \\end{bmatrix}\n",
       "$$"
      ],
      "text/plain": [
       "<IPython.core.display.Latex object>"
      ]
     },
     "execution_count": 49,
     "metadata": {},
     "output_type": "execute_result"
    }
   ],
   "source": [
    "#for Bell state 3\n",
    "qc = QuantumCircuit(2)\n",
    "qc.h(0)\n",
    "qc.cx(0, 1)\n",
    "qc.x(0)\n",
    "print(qc.draw(initial_state=True))\n",
    "qc.save_statevector()\n",
    "sv = svsim.run(assemble(qc)).result().get_statevector()\n",
    "array_to_latex(sv)"
   ]
  },
  {
   "cell_type": "code",
   "execution_count": 50,
   "id": "7bc82e08-8746-4756-b9ea-60fc6dd67674",
   "metadata": {},
   "outputs": [
    {
     "name": "stdout",
     "output_type": "stream",
     "text": [
      "        ┌───┐┌───┐     ┌───┐\n",
      "q_0: |0>┤ X ├┤ H ├──■──┤ X ├\n",
      "        └───┘└───┘┌─┴─┐└───┘\n",
      "q_1: |0>──────────┤ X ├─────\n",
      "                  └───┘     \n"
     ]
    },
    {
     "data": {
      "text/latex": [
       "$$\n",
       "\n",
       "\\begin{bmatrix}\n",
       "0 & \\tfrac{1}{\\sqrt{2}} & -\\tfrac{1}{\\sqrt{2}} & 0  \\\\\n",
       " \\end{bmatrix}\n",
       "$$"
      ],
      "text/plain": [
       "<IPython.core.display.Latex object>"
      ]
     },
     "execution_count": 50,
     "metadata": {},
     "output_type": "execute_result"
    }
   ],
   "source": [
    "#for Bell state 4\n",
    "qc = QuantumCircuit(2)\n",
    "qc.x(0)\n",
    "qc.h(0)\n",
    "qc.cx(0, 1)\n",
    "qc.x(0)\n",
    "print(qc.draw(initial_state=True))\n",
    "qc.save_statevector()\n",
    "sv = svsim.run(assemble(qc)).result().get_statevector()\n",
    "array_to_latex(sv)"
   ]
  },
  {
   "cell_type": "code",
   "execution_count": null,
   "id": "b64816a8-2ecf-4451-b837-c9422295dd82",
   "metadata": {},
   "outputs": [],
   "source": []
  }
 ],
 "metadata": {
  "kernelspec": {
   "display_name": "Python (Qiskit)",
   "language": "python",
   "name": "qiskit"
  },
  "language_info": {
   "codemirror_mode": {
    "name": "ipython",
    "version": 3
   },
   "file_extension": ".py",
   "mimetype": "text/x-python",
   "name": "python",
   "nbconvert_exporter": "python",
   "pygments_lexer": "ipython3",
   "version": "3.10.4"
  }
 },
 "nbformat": 4,
 "nbformat_minor": 5
}
