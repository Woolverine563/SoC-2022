{
 "cells": [
  {
   "cell_type": "code",
   "execution_count": 1,
   "id": "a5058c56-ccf3-43f7-93ce-c45d3bb558aa",
   "metadata": {},
   "outputs": [],
   "source": [
    "from qiskit import QuantumCircuit, assemble, Aer\n",
    "import numpy as np\n",
    "from qiskit.visualization import plot_histogram, plot_bloch_vector, array_to_latex, plot_bloch_multivector\n",
    "from math import sqrt, pi\n",
    "from IPython.display import display, Math"
   ]
  },
  {
   "cell_type": "code",
   "execution_count": 2,
   "id": "97aa2b5e-12ef-440b-bae9-5aed92170939",
   "metadata": {},
   "outputs": [],
   "source": [
    "svsim = Aer.get_backend('aer_simulator') "
   ]
  },
  {
   "cell_type": "code",
   "execution_count": 11,
   "id": "bd645187-8f3c-4039-bf12-f6cb0b80417b",
   "metadata": {},
   "outputs": [
    {
     "name": "stdout",
     "output_type": "stream",
     "text": [
      "        ┌───┐          \n",
      "q_0: |0>┤ H ├──■────■──\n",
      "        └───┘┌─┴─┐  │  \n",
      "q_1: |0>─────┤ X ├──┼──\n",
      "             └───┘┌─┴─┐\n",
      "q_2: |0>──────────┤ X ├\n",
      "                  └───┘\n"
     ]
    },
    {
     "data": {
      "text/latex": [
       "$$\n",
       "\n",
       "\\begin{bmatrix}\n",
       "\\tfrac{1}{\\sqrt{2}} & 0 & 0 & 0 & 0 & 0 & 0 & \\tfrac{1}{\\sqrt{2}}  \\\\\n",
       " \\end{bmatrix}\n",
       "$$"
      ],
      "text/plain": [
       "<IPython.core.display.Latex object>"
      ]
     },
     "execution_count": 11,
     "metadata": {},
     "output_type": "execute_result"
    }
   ],
   "source": [
    "#for GHZ state, n = 3\n",
    "qc = QuantumCircuit(3)\n",
    "qc.h(0)\n",
    "qc.cx(0, 1)\n",
    "qc.cx(0, 2)\n",
    "\n",
    "print(qc.draw(initial_state=True))\n",
    "qc.save_statevector()\n",
    "sv = svsim.run(assemble(qc)).result().get_statevector()\n",
    "array_to_latex(sv)"
   ]
  },
  {
   "cell_type": "code",
   "execution_count": 24,
   "id": "552439e5-ca5d-4250-a1d8-dfa21511e697",
   "metadata": {},
   "outputs": [
    {
     "name": "stdout",
     "output_type": "stream",
     "text": [
      "        ┌───┐               \n",
      "q_0: |0>┤ H ├──■────■────■──\n",
      "        └───┘┌─┴─┐  │    │  \n",
      "q_1: |0>─────┤ X ├──┼────┼──\n",
      "             └───┘┌─┴─┐  │  \n",
      "q_2: |0>──────────┤ X ├──┼──\n",
      "                  └───┘┌─┴─┐\n",
      "q_3: |0>───────────────┤ X ├\n",
      "                       └───┘\n"
     ]
    },
    {
     "data": {
      "text/latex": [
       "$$\n",
       "\n",
       "\\begin{bmatrix}\n",
       "\\tfrac{1}{\\sqrt{2}} & 0 & 0 & 0 & \\cdots & 0 & 0 & \\tfrac{1}{\\sqrt{2}}  \\\\\n",
       " \\end{bmatrix}\n",
       "$$"
      ],
      "text/plain": [
       "<IPython.core.display.Latex object>"
      ]
     },
     "execution_count": 24,
     "metadata": {},
     "output_type": "execute_result"
    }
   ],
   "source": [
    "#for GHZ state, general n\n",
    "n = 4\n",
    "qc = QuantumCircuit(n)\n",
    "qc.h(0)\n",
    "for i in range(1, n):\n",
    "    qc.cx(0, i)\n",
    "print(qc.draw(initial_state=True))\n",
    "qc.save_statevector()\n",
    "sv = svsim.run(assemble(qc)).result().get_statevector()\n",
    "array_to_latex(sv)"
   ]
  },
  {
   "cell_type": "code",
   "execution_count": null,
   "id": "76488007-8d20-4fc1-b01c-4cfe9d32bf15",
   "metadata": {},
   "outputs": [],
   "source": []
  },
  {
   "cell_type": "code",
   "execution_count": null,
   "id": "09d21181-9cb8-4e9e-b8e9-dd1dd4fb5e06",
   "metadata": {},
   "outputs": [],
   "source": []
  }
 ],
 "metadata": {
  "kernelspec": {
   "display_name": "Python (Qiskit)",
   "language": "python",
   "name": "qiskit"
  },
  "language_info": {
   "codemirror_mode": {
    "name": "ipython",
    "version": 3
   },
   "file_extension": ".py",
   "mimetype": "text/x-python",
   "name": "python",
   "nbconvert_exporter": "python",
   "pygments_lexer": "ipython3",
   "version": "3.10.4"
  }
 },
 "nbformat": 4,
 "nbformat_minor": 5
}
