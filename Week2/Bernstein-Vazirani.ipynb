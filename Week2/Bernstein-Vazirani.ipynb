{
 "cells": [
  {
   "cell_type": "code",
   "execution_count": 35,
   "id": "29bc6b5c-34dd-4339-a1dc-08816a8e730c",
   "metadata": {},
   "outputs": [],
   "source": [
    "from qiskit import QuantumCircuit, assemble, Aer\n",
    "import numpy as np\n",
    "from qiskit.visualization import plot_histogram, plot_bloch_vector, array_to_latex, plot_bloch_multivector\n",
    "from math import sqrt, pi\n",
    "from IPython.display import display, Math\n",
    "from qiskit.quantum_info import random_statevector"
   ]
  },
  {
   "cell_type": "code",
   "execution_count": 36,
   "id": "15e79382-128b-4f57-8114-d3da8ce23d15",
   "metadata": {},
   "outputs": [],
   "source": [
    "n = 4\n",
    "secret_string = \"1010\""
   ]
  },
  {
   "cell_type": "code",
   "execution_count": 39,
   "id": "694ee6e8-a9c3-47d6-96db-e393f0d1784d",
   "metadata": {},
   "outputs": [
    {
     "name": "stdout",
     "output_type": "stream",
     "text": [
      "     ┌───┐          ┌───┐             ┌─┐   \n",
      "q_0: ┤ H ├───────■──┤ H ├─────────────┤M├───\n",
      "     ├───┤┌───┐  │  └┬─┬┘             └╥┘   \n",
      "q_1: ┤ H ├┤ H ├──┼───┤M├───────────────╫────\n",
      "     ├───┤└───┘  │   └╥┘         ┌───┐ ║ ┌─┐\n",
      "q_2: ┤ H ├───────┼────╫───────■──┤ H ├─╫─┤M├\n",
      "     ├───┤┌───┐  │    ║  ┌─┐  │  └───┘ ║ └╥┘\n",
      "q_3: ┤ H ├┤ H ├──┼────╫──┤M├──┼────────╫──╫─\n",
      "     ├───┤├───┤┌─┴─┐  ║  └╥┘┌─┴─┐      ║  ║ \n",
      "q_4: ┤ X ├┤ H ├┤ X ├──╫───╫─┤ X ├──────╫──╫─\n",
      "     └───┘└───┘└───┘  ║   ║ └───┘      ║  ║ \n",
      "c: 4/═════════════════╩═══╩════════════╩══╩═\n",
      "                      1   3            0  2 \n"
     ]
    },
    {
     "data": {
      "image/png": "[encoded data removed]",
      "text/plain": [
       "<Figure size 504x360 with 1 Axes>"
      ]
     },
     "execution_count": 39,
     "metadata": {},
     "output_type": "execute_result"
    }
   ],
   "source": [
    "qc = QuantumCircuit(n + 1, n)\n",
    "qc.x(n)\n",
    "qc.h(n)\n",
    "for i in range(n):\n",
    "    qc.h(i)\n",
    "for i in range(n):\n",
    "    if secret_string[i] == \"1\":\n",
    "        qc.cx(i, n)\n",
    "for i in range(n):\n",
    "    qc.h(i)\n",
    "for i in range(n):\n",
    "    qc.measure(i, i)\n",
    "print(qc.draw())\n",
    "sim = Aer.get_backend('aer_simulator')\n",
    "counts = sim.run(assemble(qc)).result().get_counts()\n",
    "plot_histogram(counts)"
   ]
  },
  {
   "cell_type": "code",
   "execution_count": null,
   "id": "f3bf038c-7da7-4421-81e4-ae73e8279be1",
   "metadata": {},
   "outputs": [],
   "source": []
  }
 ],
 "metadata": {
  "kernelspec": {
   "display_name": "Python (Qiskit)",
   "language": "python",
   "name": "qiskit"
  },
  "language_info": {
   "codemirror_mode": {
    "name": "ipython",
    "version": 3
   },
   "file_extension": ".py",
   "mimetype": "text/x-python",
   "name": "python",
   "nbconvert_exporter": "python",
   "pygments_lexer": "ipython3",
   "version": "3.10.4"
  }
 },
 "nbformat": 4,
 "nbformat_minor": 5
}
